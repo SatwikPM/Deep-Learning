{
 "cells": [
  {
   "cell_type": "markdown",
   "metadata": {},
   "source": [
    "# Google Stock Price Prediction using Recurrent Neural Network"
   ]
  },
  {
   "cell_type": "markdown",
   "metadata": {},
   "source": [
    "#### Part 1: Data Preprocessing"
   ]
  },
  {
   "cell_type": "code",
   "execution_count": 72,
   "metadata": {},
   "outputs": [],
   "source": [
    "# import libraries\n",
    "import numpy as np\n",
    "import pandas as pd\n",
    "import matplotlib.pyplot as plt"
   ]
  },
  {
   "cell_type": "code",
   "execution_count": 73,
   "metadata": {},
   "outputs": [
    {
     "name": "stdout",
     "output_type": "stream",
     "text": [
      "<class 'pandas.core.frame.DataFrame'>\n",
      "RangeIndex: 1258 entries, 0 to 1257\n",
      "Data columns (total 6 columns):\n",
      " #   Column  Non-Null Count  Dtype  \n",
      "---  ------  --------------  -----  \n",
      " 0   Date    1258 non-null   object \n",
      " 1   Open    1258 non-null   float64\n",
      " 2   High    1258 non-null   float64\n",
      " 3   Low     1258 non-null   float64\n",
      " 4   Close   1258 non-null   object \n",
      " 5   Volume  1258 non-null   object \n",
      "dtypes: float64(3), object(3)\n",
      "memory usage: 59.1+ KB\n",
      "None\n"
     ]
    }
   ],
   "source": [
    "# import training set\n",
    "training_set=pd.read_csv('Google_Stock_Price_Train.csv')\n",
    "print(training_set.info())\n",
    "training_set=training_set.iloc[:,1:2].values"
   ]
  },
  {
   "cell_type": "code",
   "execution_count": 74,
   "metadata": {},
   "outputs": [
    {
     "data": {
      "text/plain": [
       "array([[325.25],\n",
       "       [331.27],\n",
       "       [329.83],\n",
       "       ...,\n",
       "       [793.7 ],\n",
       "       [783.33],\n",
       "       [782.75]])"
      ]
     },
     "execution_count": 74,
     "metadata": {},
     "output_type": "execute_result"
    }
   ],
   "source": [
    "#training_set.head()\n",
    "training_set"
   ]
  },
  {
   "cell_type": "code",
   "execution_count": 75,
   "metadata": {},
   "outputs": [
    {
     "data": {
      "text/plain": [
       "array([[0.08581368],\n",
       "       [0.09701243],\n",
       "       [0.09433366],\n",
       "       ...,\n",
       "       [0.95725128],\n",
       "       [0.93796041],\n",
       "       [0.93688146]])"
      ]
     },
     "execution_count": 75,
     "metadata": {},
     "output_type": "execute_result"
    }
   ],
   "source": [
    "# feature Scaling\n",
    "from sklearn.preprocessing import MinMaxScaler\n",
    "sc= MinMaxScaler()\n",
    "training_set=sc.fit_transform(training_set)\n",
    "training_set"
   ]
  },
  {
   "cell_type": "code",
   "execution_count": 76,
   "metadata": {},
   "outputs": [],
   "source": [
    "# Geting the input and output\n",
    "X_train= training_set[0:1257]\n",
    "y_train= training_set[1:1258]"
   ]
  },
  {
   "cell_type": "code",
   "execution_count": 77,
   "metadata": {},
   "outputs": [],
   "source": [
    "# Reshaping #(NumberOfSequences, TimeSteps, ElementsPerStep)\n",
    "X_train=np.reshape(X_train, (1257 , 1 , 1))"
   ]
  },
  {
   "cell_type": "markdown",
   "metadata": {},
   "source": [
    "#### Part 2: Building the RNN"
   ]
  },
  {
   "cell_type": "code",
   "execution_count": 78,
   "metadata": {},
   "outputs": [],
   "source": [
    "# importing the Keras libraries and Packages\n",
    "from keras.models import Sequential\n",
    "from keras.layers import Dense\n",
    "from keras.layers import LSTM"
   ]
  },
  {
   "cell_type": "code",
   "execution_count": 79,
   "metadata": {},
   "outputs": [],
   "source": [
    "# initialize the RNN\n",
    "regressor = Sequential()"
   ]
  },
  {
   "cell_type": "code",
   "execution_count": 80,
   "metadata": {},
   "outputs": [],
   "source": [
    "# adding the input layer and LSTM layer\n",
    "regressor.add(LSTM(units=4, activation= 'sigmoid', input_shape= (None,1)))"
   ]
  },
  {
   "cell_type": "code",
   "execution_count": 81,
   "metadata": {},
   "outputs": [],
   "source": [
    "# adding the output layer\n",
    "regressor.add(Dense( units=1 ))"
   ]
  },
  {
   "cell_type": "code",
   "execution_count": 82,
   "metadata": {},
   "outputs": [],
   "source": [
    "# compiling the RNN\n",
    "regressor.compile(optimizer='adam', loss='mean_squared_error')"
   ]
  },
  {
   "cell_type": "code",
   "execution_count": 83,
   "metadata": {},
   "outputs": [
    {
     "name": "stdout",
     "output_type": "stream",
     "text": [
      "Model: \"sequential_2\"\n",
      "_________________________________________________________________\n",
      "Layer (type)                 Output Shape              Param #   \n",
      "=================================================================\n",
      "lstm_2 (LSTM)                (None, 4)                 96        \n",
      "_________________________________________________________________\n",
      "dense_2 (Dense)              (None, 1)                 5         \n",
      "=================================================================\n",
      "Total params: 101\n",
      "Trainable params: 101\n",
      "Non-trainable params: 0\n",
      "_________________________________________________________________\n"
     ]
    }
   ],
   "source": [
    "regressor.summary()\n",
    "\n",
    "#LSTM param formula params = 4 * ((size_of_input + 1) * size_of_output + size_of_output^2)\n",
    "# value 4 here is the number of gates in the LSTM \n",
    "\n",
    "#params= 4*((1+1)*4+4^2)\n",
    "# = 4*(2*4+16)\n",
    "#  = 4*(8+16)\n",
    "#  =4*24\n",
    "# =96\n",
    "\n",
    "#Dense Layer Params\n",
    "# output shape of previous layer + output Shape of present layer\n",
    "\n",
    "#    =LSTM(Output Shape)+ Dense(Output Shape)\n",
    "$    =4+1\n",
    "    =5\n"
   ]
  },
  {
   "cell_type": "code",
   "execution_count": 42,
   "metadata": {},
   "outputs": [
    {
     "name": "stdout",
     "output_type": "stream",
     "text": [
      "Epoch 1/200\n",
      "40/40 [==============================] - 0s 2ms/step - loss: 0.3919\n",
      "Epoch 2/200\n",
      "40/40 [==============================] - 0s 2ms/step - loss: 0.2926\n",
      "Epoch 3/200\n",
      "40/40 [==============================] - 0s 3ms/step - loss: 0.2193\n",
      "Epoch 4/200\n",
      "40/40 [==============================] - 0s 3ms/step - loss: 0.1658\n",
      "Epoch 5/200\n",
      "40/40 [==============================] - 0s 3ms/step - loss: 0.1286\n",
      "Epoch 6/200\n",
      "40/40 [==============================] - 0s 4ms/step - loss: 0.1033\n",
      "Epoch 7/200\n",
      "40/40 [==============================] - 0s 4ms/step - loss: 0.0868\n",
      "Epoch 8/200\n",
      "40/40 [==============================] - 0s 4ms/step - loss: 0.0765\n",
      "Epoch 9/200\n",
      "40/40 [==============================] - 0s 4ms/step - loss: 0.0702\n",
      "Epoch 10/200\n",
      "40/40 [==============================] - 0s 4ms/step - loss: 0.0666\n",
      "Epoch 11/200\n",
      "40/40 [==============================] - 0s 4ms/step - loss: 0.0644\n",
      "Epoch 12/200\n",
      "40/40 [==============================] - 0s 4ms/step - loss: 0.0629\n",
      "Epoch 13/200\n",
      "40/40 [==============================] - 0s 3ms/step - loss: 0.0618\n",
      "Epoch 14/200\n",
      "40/40 [==============================] - 0s 3ms/step - loss: 0.0609\n",
      "Epoch 15/200\n",
      "40/40 [==============================] - 0s 3ms/step - loss: 0.0600\n",
      "Epoch 16/200\n",
      "40/40 [==============================] - 0s 4ms/step - loss: 0.0590\n",
      "Epoch 17/200\n",
      "40/40 [==============================] - 0s 3ms/step - loss: 0.0581\n",
      "Epoch 18/200\n",
      "40/40 [==============================] - 0s 3ms/step - loss: 0.0572\n",
      "Epoch 19/200\n",
      "40/40 [==============================] - 0s 3ms/step - loss: 0.0562\n",
      "Epoch 20/200\n",
      "40/40 [==============================] - 0s 4ms/step - loss: 0.0552\n",
      "Epoch 21/200\n",
      "40/40 [==============================] - 0s 4ms/step - loss: 0.0542\n",
      "Epoch 22/200\n",
      "40/40 [==============================] - 0s 3ms/step - loss: 0.0531\n",
      "Epoch 23/200\n",
      "40/40 [==============================] - 0s 4ms/step - loss: 0.0520\n",
      "Epoch 24/200\n",
      "40/40 [==============================] - 0s 3ms/step - loss: 0.0509\n",
      "Epoch 25/200\n",
      "40/40 [==============================] - 0s 4ms/step - loss: 0.0497\n",
      "Epoch 26/200\n",
      "40/40 [==============================] - 0s 3ms/step - loss: 0.0486\n",
      "Epoch 27/200\n",
      "40/40 [==============================] - 0s 3ms/step - loss: 0.0473\n",
      "Epoch 28/200\n",
      "40/40 [==============================] - 0s 3ms/step - loss: 0.0461\n",
      "Epoch 29/200\n",
      "40/40 [==============================] - 0s 3ms/step - loss: 0.0448\n",
      "Epoch 30/200\n",
      "40/40 [==============================] - 0s 4ms/step - loss: 0.0434\n",
      "Epoch 31/200\n",
      "40/40 [==============================] - 0s 3ms/step - loss: 0.0421\n",
      "Epoch 32/200\n",
      "40/40 [==============================] - 0s 3ms/step - loss: 0.0407\n",
      "Epoch 33/200\n",
      "40/40 [==============================] - 0s 4ms/step - loss: 0.0393\n",
      "Epoch 34/200\n",
      "40/40 [==============================] - 0s 3ms/step - loss: 0.0378\n",
      "Epoch 35/200\n",
      "40/40 [==============================] - 0s 3ms/step - loss: 0.0363\n",
      "Epoch 36/200\n",
      "40/40 [==============================] - 0s 3ms/step - loss: 0.0349\n",
      "Epoch 37/200\n",
      "40/40 [==============================] - 0s 3ms/step - loss: 0.0333\n",
      "Epoch 38/200\n",
      "40/40 [==============================] - 0s 3ms/step - loss: 0.0318\n",
      "Epoch 39/200\n",
      "40/40 [==============================] - 0s 3ms/step - loss: 0.0303\n",
      "Epoch 40/200\n",
      "40/40 [==============================] - 0s 2ms/step - loss: 0.0287\n",
      "Epoch 41/200\n",
      "40/40 [==============================] - 0s 2ms/step - loss: 0.0271\n",
      "Epoch 42/200\n",
      "40/40 [==============================] - 0s 3ms/step - loss: 0.0255\n",
      "Epoch 43/200\n",
      "40/40 [==============================] - 0s 2ms/step - loss: 0.0240\n",
      "Epoch 44/200\n",
      "40/40 [==============================] - 0s 2ms/step - loss: 0.0224\n",
      "Epoch 45/200\n",
      "40/40 [==============================] - 0s 2ms/step - loss: 0.0209\n",
      "Epoch 46/200\n",
      "40/40 [==============================] - 0s 2ms/step - loss: 0.0193\n",
      "Epoch 47/200\n",
      "40/40 [==============================] - 0s 2ms/step - loss: 0.0178\n",
      "Epoch 48/200\n",
      "40/40 [==============================] - 0s 2ms/step - loss: 0.0164\n",
      "Epoch 49/200\n",
      "40/40 [==============================] - 0s 2ms/step - loss: 0.0150\n",
      "Epoch 50/200\n",
      "40/40 [==============================] - 0s 2ms/step - loss: 0.0136\n",
      "Epoch 51/200\n",
      "40/40 [==============================] - 0s 2ms/step - loss: 0.0123\n",
      "Epoch 52/200\n",
      "40/40 [==============================] - 0s 3ms/step - loss: 0.0111\n",
      "Epoch 53/200\n",
      "40/40 [==============================] - 0s 2ms/step - loss: 0.0100\n",
      "Epoch 54/200\n",
      "40/40 [==============================] - 0s 2ms/step - loss: 0.0089\n",
      "Epoch 55/200\n",
      "40/40 [==============================] - 0s 2ms/step - loss: 0.0079\n",
      "Epoch 56/200\n",
      "40/40 [==============================] - 0s 2ms/step - loss: 0.0069\n",
      "Epoch 57/200\n",
      "40/40 [==============================] - 0s 3ms/step - loss: 0.0061\n",
      "Epoch 58/200\n",
      "40/40 [==============================] - 0s 4ms/step - loss: 0.0053\n",
      "Epoch 59/200\n",
      "40/40 [==============================] - 0s 4ms/step - loss: 0.0046\n",
      "Epoch 60/200\n",
      "40/40 [==============================] - 0s 4ms/step - loss: 0.0040\n",
      "Epoch 61/200\n",
      "40/40 [==============================] - 0s 4ms/step - loss: 0.0034\n",
      "Epoch 62/200\n",
      "40/40 [==============================] - 0s 4ms/step - loss: 0.0029\n",
      "Epoch 63/200\n",
      "40/40 [==============================] - 0s 4ms/step - loss: 0.0025\n",
      "Epoch 64/200\n",
      "40/40 [==============================] - 0s 4ms/step - loss: 0.0021\n",
      "Epoch 65/200\n",
      "40/40 [==============================] - 0s 4ms/step - loss: 0.0018\n",
      "Epoch 66/200\n",
      "40/40 [==============================] - 0s 4ms/step - loss: 0.0015\n",
      "Epoch 67/200\n",
      "40/40 [==============================] - 0s 4ms/step - loss: 0.0013\n",
      "Epoch 68/200\n",
      "40/40 [==============================] - 0s 4ms/step - loss: 0.0011\n",
      "Epoch 69/200\n",
      "40/40 [==============================] - 0s 4ms/step - loss: 9.7092e-04\n",
      "Epoch 70/200\n",
      "40/40 [==============================] - 0s 4ms/step - loss: 8.4645e-04\n",
      "Epoch 71/200\n",
      "40/40 [==============================] - 0s 4ms/step - loss: 7.4439e-04\n",
      "Epoch 72/200\n",
      "40/40 [==============================] - 0s 4ms/step - loss: 6.6211e-04\n",
      "Epoch 73/200\n",
      "40/40 [==============================] - 0s 4ms/step - loss: 5.9457e-04\n",
      "Epoch 74/200\n",
      "40/40 [==============================] - 0s 4ms/step - loss: 5.4339e-04\n",
      "Epoch 75/200\n",
      "40/40 [==============================] - 0s 4ms/step - loss: 5.0159e-04\n",
      "Epoch 76/200\n",
      "40/40 [==============================] - 0s 4ms/step - loss: 4.7022e-04\n",
      "Epoch 77/200\n",
      "40/40 [==============================] - 0s 2ms/step - loss: 4.4526e-04\n",
      "Epoch 78/200\n",
      "40/40 [==============================] - 0s 2ms/step - loss: 4.2573e-04\n",
      "Epoch 79/200\n",
      "40/40 [==============================] - 0s 2ms/step - loss: 4.1035e-04\n",
      "Epoch 80/200\n",
      "40/40 [==============================] - 0s 2ms/step - loss: 3.9823e-04\n",
      "Epoch 81/200\n",
      "40/40 [==============================] - 0s 2ms/step - loss: 3.8979e-04\n",
      "Epoch 82/200\n",
      "40/40 [==============================] - 0s 2ms/step - loss: 3.8249e-04\n",
      "Epoch 83/200\n",
      "40/40 [==============================] - 0s 2ms/step - loss: 3.7634e-04\n",
      "Epoch 84/200\n",
      "40/40 [==============================] - 0s 2ms/step - loss: 3.7313e-04\n",
      "Epoch 85/200\n",
      "40/40 [==============================] - 0s 2ms/step - loss: 3.6982e-04\n",
      "Epoch 86/200\n",
      "40/40 [==============================] - 0s 3ms/step - loss: 3.6532e-04\n",
      "Epoch 87/200\n",
      "40/40 [==============================] - 0s 3ms/step - loss: 3.6324e-04\n",
      "Epoch 88/200\n",
      "40/40 [==============================] - 0s 3ms/step - loss: 3.6013e-04\n",
      "Epoch 89/200\n",
      "40/40 [==============================] - 0s 3ms/step - loss: 3.5921e-04\n",
      "Epoch 90/200\n",
      "40/40 [==============================] - 0s 4ms/step - loss: 3.5630e-04\n",
      "Epoch 91/200\n",
      "40/40 [==============================] - 0s 4ms/step - loss: 3.5465e-04\n",
      "Epoch 92/200\n",
      "40/40 [==============================] - 0s 4ms/step - loss: 3.5320e-04\n",
      "Epoch 93/200\n",
      "40/40 [==============================] - 0s 4ms/step - loss: 3.5103e-04\n",
      "Epoch 94/200\n",
      "40/40 [==============================] - 0s 4ms/step - loss: 3.5067e-04\n",
      "Epoch 95/200\n",
      "40/40 [==============================] - 0s 4ms/step - loss: 3.4795e-04\n",
      "Epoch 96/200\n",
      "40/40 [==============================] - 0s 4ms/step - loss: 3.4609e-04\n",
      "Epoch 97/200\n",
      "40/40 [==============================] - 0s 4ms/step - loss: 3.4432e-04\n",
      "Epoch 98/200\n",
      "40/40 [==============================] - 0s 4ms/step - loss: 3.4257e-04\n",
      "Epoch 99/200\n",
      "40/40 [==============================] - 0s 4ms/step - loss: 3.4262e-04\n",
      "Epoch 100/200\n"
     ]
    },
    {
     "name": "stdout",
     "output_type": "stream",
     "text": [
      "40/40 [==============================] - 0s 4ms/step - loss: 3.4035e-04\n",
      "Epoch 101/200\n",
      "40/40 [==============================] - 0s 4ms/step - loss: 3.3774e-04\n",
      "Epoch 102/200\n",
      "40/40 [==============================] - 0s 4ms/step - loss: 3.3639e-04\n",
      "Epoch 103/200\n",
      "40/40 [==============================] - 0s 4ms/step - loss: 3.3543e-04\n",
      "Epoch 104/200\n",
      "40/40 [==============================] - 0s 4ms/step - loss: 3.3409e-04\n",
      "Epoch 105/200\n",
      "40/40 [==============================] - 0s 3ms/step - loss: 3.3297e-04\n",
      "Epoch 106/200\n",
      "40/40 [==============================] - 0s 3ms/step - loss: 3.2974e-04\n",
      "Epoch 107/200\n",
      "40/40 [==============================] - 0s 4ms/step - loss: 3.2866e-04\n",
      "Epoch 108/200\n",
      "40/40 [==============================] - 0s 2ms/step - loss: 3.2684e-04\n",
      "Epoch 109/200\n",
      "40/40 [==============================] - 0s 2ms/step - loss: 3.2620e-04\n",
      "Epoch 110/200\n",
      "40/40 [==============================] - 0s 4ms/step - loss: 3.2320e-04\n",
      "Epoch 111/200\n",
      "40/40 [==============================] - 0s 4ms/step - loss: 3.2211e-04\n",
      "Epoch 112/200\n",
      "40/40 [==============================] - 0s 4ms/step - loss: 3.2327e-04\n",
      "Epoch 113/200\n",
      "40/40 [==============================] - 0s 4ms/step - loss: 3.2042e-04\n",
      "Epoch 114/200\n",
      "40/40 [==============================] - 0s 4ms/step - loss: 3.1867e-04\n",
      "Epoch 115/200\n",
      "40/40 [==============================] - 0s 2ms/step - loss: 3.1686e-04\n",
      "Epoch 116/200\n",
      "40/40 [==============================] - 0s 4ms/step - loss: 3.1574e-04\n",
      "Epoch 117/200\n",
      "40/40 [==============================] - 0s 4ms/step - loss: 3.1406e-04\n",
      "Epoch 118/200\n",
      "40/40 [==============================] - 0s 4ms/step - loss: 3.1207e-04\n",
      "Epoch 119/200\n",
      "40/40 [==============================] - 0s 4ms/step - loss: 3.1132e-04\n",
      "Epoch 120/200\n",
      "40/40 [==============================] - 0s 4ms/step - loss: 3.1135e-04\n",
      "Epoch 121/200\n",
      "40/40 [==============================] - 0s 4ms/step - loss: 3.0969e-04\n",
      "Epoch 122/200\n",
      "40/40 [==============================] - 0s 4ms/step - loss: 3.0703e-04\n",
      "Epoch 123/200\n",
      "40/40 [==============================] - 0s 4ms/step - loss: 3.0627e-04\n",
      "Epoch 124/200\n",
      "40/40 [==============================] - 0s 4ms/step - loss: 3.0572e-04\n",
      "Epoch 125/200\n",
      "40/40 [==============================] - 0s 4ms/step - loss: 3.0403e-04\n",
      "Epoch 126/200\n",
      "40/40 [==============================] - 0s 4ms/step - loss: 3.0186e-04\n",
      "Epoch 127/200\n",
      "40/40 [==============================] - 0s 4ms/step - loss: 3.0060e-04\n",
      "Epoch 128/200\n",
      "40/40 [==============================] - 0s 4ms/step - loss: 2.9945e-04\n",
      "Epoch 129/200\n",
      "40/40 [==============================] - 0s 4ms/step - loss: 2.9836e-04\n",
      "Epoch 130/200\n",
      "40/40 [==============================] - 0s 4ms/step - loss: 2.9704e-04\n",
      "Epoch 131/200\n",
      "40/40 [==============================] - 0s 4ms/step - loss: 2.9618e-04\n",
      "Epoch 132/200\n",
      "40/40 [==============================] - 0s 4ms/step - loss: 2.9520e-04\n",
      "Epoch 133/200\n",
      "40/40 [==============================] - 0s 4ms/step - loss: 2.9467e-04\n",
      "Epoch 134/200\n",
      "40/40 [==============================] - 0s 4ms/step - loss: 2.9327e-04\n",
      "Epoch 135/200\n",
      "40/40 [==============================] - 0s 3ms/step - loss: 2.9424e-04\n",
      "Epoch 136/200\n",
      "40/40 [==============================] - 0s 2ms/step - loss: 2.9151e-04\n",
      "Epoch 137/200\n",
      "40/40 [==============================] - 0s 2ms/step - loss: 2.8976e-04\n",
      "Epoch 138/200\n",
      "40/40 [==============================] - 0s 2ms/step - loss: 2.9007e-04\n",
      "Epoch 139/200\n",
      "40/40 [==============================] - 0s 2ms/step - loss: 2.8717e-04\n",
      "Epoch 140/200\n",
      "40/40 [==============================] - 0s 2ms/step - loss: 2.8710e-04\n",
      "Epoch 141/200\n",
      "40/40 [==============================] - 0s 2ms/step - loss: 2.8556e-04\n",
      "Epoch 142/200\n",
      "40/40 [==============================] - 0s 2ms/step - loss: 2.8556e-04\n",
      "Epoch 143/200\n",
      "40/40 [==============================] - 0s 2ms/step - loss: 2.8515e-04\n",
      "Epoch 144/200\n",
      "40/40 [==============================] - 0s 2ms/step - loss: 2.8254e-04\n",
      "Epoch 145/200\n",
      "40/40 [==============================] - 0s 2ms/step - loss: 2.8267e-04\n",
      "Epoch 146/200\n",
      "40/40 [==============================] - 0s 2ms/step - loss: 2.8104e-04\n",
      "Epoch 147/200\n",
      "40/40 [==============================] - 0s 2ms/step - loss: 2.8015e-04\n",
      "Epoch 148/200\n",
      "40/40 [==============================] - 0s 2ms/step - loss: 2.8291e-04\n",
      "Epoch 149/200\n",
      "40/40 [==============================] - 0s 2ms/step - loss: 2.8002e-04\n",
      "Epoch 150/200\n",
      "40/40 [==============================] - 0s 2ms/step - loss: 2.7759e-04\n",
      "Epoch 151/200\n",
      "40/40 [==============================] - 0s 2ms/step - loss: 2.7839e-04\n",
      "Epoch 152/200\n",
      "40/40 [==============================] - 0s 2ms/step - loss: 2.7647e-04\n",
      "Epoch 153/200\n",
      "40/40 [==============================] - 0s 2ms/step - loss: 2.7856e-04\n",
      "Epoch 154/200\n",
      "40/40 [==============================] - 0s 2ms/step - loss: 2.7670e-04\n",
      "Epoch 155/200\n",
      "40/40 [==============================] - 0s 2ms/step - loss: 2.7548e-04\n",
      "Epoch 156/200\n",
      "40/40 [==============================] - 0s 2ms/step - loss: 2.7516e-04\n",
      "Epoch 157/200\n",
      "40/40 [==============================] - 0s 2ms/step - loss: 2.7358e-04\n",
      "Epoch 158/200\n",
      "40/40 [==============================] - 0s 2ms/step - loss: 2.7265e-04\n",
      "Epoch 159/200\n",
      "40/40 [==============================] - 0s 2ms/step - loss: 2.7339e-04\n",
      "Epoch 160/200\n",
      "40/40 [==============================] - 0s 2ms/step - loss: 2.7182e-04\n",
      "Epoch 161/200\n",
      "40/40 [==============================] - 0s 2ms/step - loss: 2.7103e-04\n",
      "Epoch 162/200\n",
      "40/40 [==============================] - 0s 2ms/step - loss: 2.7075e-04\n",
      "Epoch 163/200\n",
      "40/40 [==============================] - 0s 2ms/step - loss: 2.7237e-04\n",
      "Epoch 164/200\n",
      "40/40 [==============================] - 0s 2ms/step - loss: 2.7000e-04\n",
      "Epoch 165/200\n",
      "40/40 [==============================] - 0s 2ms/step - loss: 2.6870e-04\n",
      "Epoch 166/200\n",
      "40/40 [==============================] - 0s 2ms/step - loss: 2.6953e-04\n",
      "Epoch 167/200\n",
      "40/40 [==============================] - 0s 2ms/step - loss: 2.6821e-04\n",
      "Epoch 168/200\n",
      "40/40 [==============================] - 0s 2ms/step - loss: 2.6726e-04\n",
      "Epoch 169/200\n",
      "40/40 [==============================] - 0s 3ms/step - loss: 2.6700e-04\n",
      "Epoch 170/200\n",
      "40/40 [==============================] - 0s 3ms/step - loss: 2.6791e-04\n",
      "Epoch 171/200\n",
      "40/40 [==============================] - 0s 3ms/step - loss: 2.6779e-04\n",
      "Epoch 172/200\n",
      "40/40 [==============================] - 0s 3ms/step - loss: 2.6598e-04\n",
      "Epoch 173/200\n",
      "40/40 [==============================] - 0s 3ms/step - loss: 2.6720e-04\n",
      "Epoch 174/200\n",
      "40/40 [==============================] - 0s 3ms/step - loss: 2.7002e-04\n",
      "Epoch 175/200\n",
      "40/40 [==============================] - 0s 3ms/step - loss: 2.6669e-04\n",
      "Epoch 176/200\n",
      "40/40 [==============================] - 0s 3ms/step - loss: 2.6478e-04\n",
      "Epoch 177/200\n",
      "40/40 [==============================] - 0s 3ms/step - loss: 2.6726e-04\n",
      "Epoch 178/200\n",
      "40/40 [==============================] - 0s 3ms/step - loss: 2.6523e-04\n",
      "Epoch 179/200\n",
      "40/40 [==============================] - 0s 3ms/step - loss: 2.6930e-04\n",
      "Epoch 180/200\n",
      "40/40 [==============================] - 0s 3ms/step - loss: 2.6729e-04\n",
      "Epoch 181/200\n",
      "40/40 [==============================] - 0s 3ms/step - loss: 2.6387e-04\n",
      "Epoch 182/200\n",
      "40/40 [==============================] - 0s 3ms/step - loss: 2.6970e-04\n",
      "Epoch 183/200\n",
      "40/40 [==============================] - 0s 3ms/step - loss: 2.7110e-04\n",
      "Epoch 184/200\n",
      "40/40 [==============================] - 0s 3ms/step - loss: 2.6535e-04\n",
      "Epoch 185/200\n",
      "40/40 [==============================] - 0s 3ms/step - loss: 2.6361e-04\n",
      "Epoch 186/200\n",
      "40/40 [==============================] - 0s 4ms/step - loss: 2.6380e-04\n",
      "Epoch 187/200\n",
      "40/40 [==============================] - 0s 4ms/step - loss: 2.6589e-04\n",
      "Epoch 188/200\n",
      "40/40 [==============================] - 0s 4ms/step - loss: 2.6430e-04\n",
      "Epoch 189/200\n",
      "40/40 [==============================] - 0s 4ms/step - loss: 2.6086e-04\n",
      "Epoch 190/200\n",
      "40/40 [==============================] - 0s 4ms/step - loss: 2.6135e-04\n",
      "Epoch 191/200\n",
      "40/40 [==============================] - 0s 4ms/step - loss: 2.6331e-04\n",
      "Epoch 192/200\n",
      "40/40 [==============================] - 0s 4ms/step - loss: 2.6110e-04\n",
      "Epoch 193/200\n",
      "40/40 [==============================] - 0s 4ms/step - loss: 2.6009e-04\n",
      "Epoch 194/200\n",
      "40/40 [==============================] - 0s 4ms/step - loss: 2.6175e-04\n",
      "Epoch 195/200\n"
     ]
    },
    {
     "name": "stdout",
     "output_type": "stream",
     "text": [
      "40/40 [==============================] - 0s 4ms/step - loss: 2.6199e-04\n",
      "Epoch 196/200\n",
      "40/40 [==============================] - 0s 4ms/step - loss: 2.6176e-04\n",
      "Epoch 197/200\n",
      "40/40 [==============================] - 0s 4ms/step - loss: 2.6038e-04\n",
      "Epoch 198/200\n",
      "40/40 [==============================] - 0s 4ms/step - loss: 2.6105e-04\n",
      "Epoch 199/200\n",
      "40/40 [==============================] - 0s 3ms/step - loss: 2.6034e-04\n",
      "Epoch 200/200\n",
      "40/40 [==============================] - 0s 4ms/step - loss: 2.6236e-04\n"
     ]
    },
    {
     "data": {
      "text/plain": [
       "<tensorflow.python.keras.callbacks.History at 0x21120a29250>"
      ]
     },
     "execution_count": 42,
     "metadata": {},
     "output_type": "execute_result"
    }
   ],
   "source": [
    "# fitting the RNN to the training set\n",
    "regressor.fit(X_train, y_train, batch_size=32, epochs=200)"
   ]
  },
  {
   "cell_type": "code",
   "execution_count": 43,
   "metadata": {},
   "outputs": [
    {
     "name": "stdout",
     "output_type": "stream",
     "text": [
      "Model: \"sequential_1\"\n",
      "_________________________________________________________________\n",
      "Layer (type)                 Output Shape              Param #   \n",
      "=================================================================\n",
      "lstm_1 (LSTM)                (None, 4)                 96        \n",
      "_________________________________________________________________\n",
      "dense_1 (Dense)              (None, 1)                 5         \n",
      "=================================================================\n",
      "Total params: 101\n",
      "Trainable params: 101\n",
      "Non-trainable params: 0\n",
      "_________________________________________________________________\n"
     ]
    }
   ],
   "source": [
    "regressor.summary()"
   ]
  },
  {
   "cell_type": "markdown",
   "metadata": {},
   "source": [
    "#### Part 3: Making the Prediction and Visulising the result"
   ]
  },
  {
   "cell_type": "code",
   "execution_count": 63,
   "metadata": {},
   "outputs": [],
   "source": [
    "# Geting the real stock price of 2017\n",
    "test_set = pd.read_csv('Google_Stock_Price_Test.csv')\n",
    "real_stock_price = test_set.iloc[:,1:2].values"
   ]
  },
  {
   "cell_type": "code",
   "execution_count": 64,
   "metadata": {},
   "outputs": [
    {
     "data": {
      "text/plain": [
       "array([[778.81],\n",
       "       [788.36],\n",
       "       [786.08],\n",
       "       [795.26],\n",
       "       [806.4 ],\n",
       "       [807.86],\n",
       "       [805.  ],\n",
       "       [807.14],\n",
       "       [807.48],\n",
       "       [807.08],\n",
       "       [805.81],\n",
       "       [805.12],\n",
       "       [806.91],\n",
       "       [807.25],\n",
       "       [822.3 ],\n",
       "       [829.62],\n",
       "       [837.81],\n",
       "       [834.71],\n",
       "       [814.66],\n",
       "       [796.86]])"
      ]
     },
     "execution_count": 64,
     "metadata": {},
     "output_type": "execute_result"
    }
   ],
   "source": [
    "# Geting the Predicted Stock Price of 2017\n",
    "inputs = real_stock_price\n",
    "inputs"
   ]
  },
  {
   "cell_type": "code",
   "execution_count": 65,
   "metadata": {},
   "outputs": [],
   "source": [
    "inputs = sc.transform(inputs)\n"
   ]
  },
  {
   "cell_type": "code",
   "execution_count": 66,
   "metadata": {},
   "outputs": [
    {
     "data": {
      "text/plain": [
       "array([[778.81],\n",
       "       [788.36],\n",
       "       [786.08],\n",
       "       [795.26],\n",
       "       [806.4 ],\n",
       "       [807.86],\n",
       "       [805.  ],\n",
       "       [807.14],\n",
       "       [807.48],\n",
       "       [807.08],\n",
       "       [805.81],\n",
       "       [805.12],\n",
       "       [806.91],\n",
       "       [807.25],\n",
       "       [822.3 ],\n",
       "       [829.62],\n",
       "       [837.81],\n",
       "       [834.71],\n",
       "       [814.66],\n",
       "       [796.86]])"
      ]
     },
     "execution_count": 66,
     "metadata": {},
     "output_type": "execute_result"
    }
   ],
   "source": [
    "inputs"
   ]
  },
  {
   "cell_type": "code",
   "execution_count": 67,
   "metadata": {},
   "outputs": [],
   "source": [
    "inputs = np.reshape(inputs, (20 , 1, 1))"
   ]
  },
  {
   "cell_type": "code",
   "execution_count": 68,
   "metadata": {},
   "outputs": [
    {
     "data": {
      "text/plain": [
       "array([[[778.81]],\n",
       "\n",
       "       [[788.36]],\n",
       "\n",
       "       [[786.08]],\n",
       "\n",
       "       [[795.26]],\n",
       "\n",
       "       [[806.4 ]],\n",
       "\n",
       "       [[807.86]],\n",
       "\n",
       "       [[805.  ]],\n",
       "\n",
       "       [[807.14]],\n",
       "\n",
       "       [[807.48]],\n",
       "\n",
       "       [[807.08]],\n",
       "\n",
       "       [[805.81]],\n",
       "\n",
       "       [[805.12]],\n",
       "\n",
       "       [[806.91]],\n",
       "\n",
       "       [[807.25]],\n",
       "\n",
       "       [[822.3 ]],\n",
       "\n",
       "       [[829.62]],\n",
       "\n",
       "       [[837.81]],\n",
       "\n",
       "       [[834.71]],\n",
       "\n",
       "       [[814.66]],\n",
       "\n",
       "       [[796.86]]])"
      ]
     },
     "execution_count": 68,
     "metadata": {},
     "output_type": "execute_result"
    }
   ],
   "source": [
    "inputs"
   ]
  },
  {
   "cell_type": "code",
   "execution_count": 69,
   "metadata": {},
   "outputs": [],
   "source": [
    "predicted_stock_price = regressor.predict(inputs)"
   ]
  },
  {
   "cell_type": "code",
   "execution_count": 70,
   "metadata": {},
   "outputs": [],
   "source": [
    "predicted_stock_price = sc.inverse_transform(predicted_stock_price)"
   ]
  },
  {
   "cell_type": "code",
   "execution_count": 71,
   "metadata": {},
   "outputs": [
    {
     "data": {
      "image/png": "[encoded data removed]",
      "text/plain": [
       "<Figure size 432x288 with 1 Axes>"
      ]
     },
     "metadata": {
      "needs_background": "light"
     },
     "output_type": "display_data"
    }
   ],
   "source": [
    "# Visulising the Result \n",
    "plt.plot( real_stock_price , color = 'red' , label = 'Real Google Stock Price')\n",
    "plt.plot( predicted_stock_price , color = 'blue' , label = 'Predicted Google Stock Price')\n",
    "plt.title('Google Stock Price Prediction')\n",
    "plt.xlabel( 'time' )\n",
    "plt.ylabel( 'Google Stock Price' )\n",
    "plt.legend()\n",
    "plt.show()"
   ]
  },
  {
   "cell_type": "code",
   "execution_count": null,
   "metadata": {},
   "outputs": [],
   "source": []
  }
 ],
 "metadata": {
  "kernelspec": {
   "display_name": "Python 3",
   "language": "python",
   "name": "python3"
  },
  "language_info": {
   "codemirror_mode": {
    "name": "ipython",
    "version": 3
   },
   "file_extension": ".py",
   "mimetype": "text/x-python",
   "name": "python",
   "nbconvert_exporter": "python",
   "pygments_lexer": "ipython3",
   "version": "3.8.5"
  }
 },
 "nbformat": 4,
 "nbformat_minor": 2
}
